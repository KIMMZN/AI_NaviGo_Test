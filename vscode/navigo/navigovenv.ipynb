{
 "cells": [
  {
   "cell_type": "code",
   "execution_count": null,
   "metadata": {},
   "outputs": [
    {
     "name": "stdout",
     "output_type": "stream",
     "text": [
      "Hello, Jupyter Notebook!\n"
     ]
    },
    {
     "ename": "",
     "evalue": "",
     "output_type": "error",
     "traceback": [
      "\u001b[1;31m현재 셀 또는 이전 셀에서 코드를 실행하는 동안 Kernel이 충돌했습니다. \n",
      "\u001b[1;31m셀의 코드를 검토하여 가능한 오류 원인을 식별하세요. \n",
      "\u001b[1;31m자세한 내용을 보려면 <a href='https://aka.ms/vscodeJupyterKernelCrash'>여기</a>를 클릭하세요. \n",
      "\u001b[1;31m자세한 내용은 Jupyter <a href='command:jupyter.viewOutput'>로그</a>를 참조하세요."
     ]
    }
   ],
   "source": [
    "print(\"Hello, Jupyter Notebook!\")\n",
    "# flask (API 서버), pandas (데이터 처리), numpy (수학 연산), scikit-learn (추천 알고리즘)\n",
    "# pip install flask pandas numpy scikit-learn\n",
    "# pip install openpyxl\n",
    "# pip install pymysql\n",
    "import pandas as pd\n",
    "import pymysql\n",
    "from sklearn.metrics.pairwise import cosine_similarity\n",
    "from flask import Flask, request, jsonify, Response\n",
    "import json\n",
    "\n"
   ]
  },
  {
   "cell_type": "code",
   "execution_count": 10,
   "metadata": {},
   "outputs": [
    {
     "name": "stdout",
     "output_type": "stream",
     "text": [
      "현재 작업 디렉토리: c:\\ThisIsJava\\workspace\\vscode\\navigo\n",
      "✅ openpyxl 라이브러리 로드 성공!\n"
     ]
    }
   ],
   "source": [
    "import os\n",
    "\n",
    "print(\"현재 작업 디렉토리:\", os.getcwd())  # 현재 Python 실행 위치 출력\n",
    "\n",
    "import openpyxl\n",
    "print(\"✅ openpyxl 라이브러리 로드 성공!\")"
   ]
  },
  {
   "cell_type": "code",
   "execution_count": 11,
   "metadata": {},
   "outputs": [],
   "source": [
    "# 📌 엑셀 데이터 로드\n",
    "file_path = \"data/한국관광공사_국문_서비스분류코드_v4.2.xlsx\"\n",
    "xls = pd.ExcelFile(file_path)\n",
    "df = pd.read_excel(xls, sheet_name='국문')"
   ]
  },
  {
   "cell_type": "code",
   "execution_count": 12,
   "metadata": {},
   "outputs": [],
   "source": [
    "# 📌 필요한 컬럼만 선택\n",
    "df = df.iloc[4:]  # 필요없는 행 제거\n",
    "df.columns = [\"contenttypeid\", \"cat1\", \"cat2\", \"cat3\", \"대분류\", \"중분류\", \"소분류\"]\n",
    "df = df.dropna()"
   ]
  },
  {
   "cell_type": "code",
   "execution_count": 13,
   "metadata": {},
   "outputs": [],
   "source": [
    "# ✅ MariaDB 연결 정보\n",
    "DB_HOST = \"localhost\"      # 또는 서버 IP\n",
    "DB_USER = \"root\"           # DB 사용자명\n",
    "DB_PASSWORD = \"11111111\"  # DB 비밀번호\n",
    "DB_NAME = \"navi_go\"        # DB명\n",
    "\n",
    "def get_connection():\n",
    "    return pymysql.connect(host=DB_HOST, user=DB_USER, password=DB_PASSWORD, \n",
    "                           database=DB_NAME, \n",
    "                           charset=\"utf8mb4\",  \n",
    "                           cursorclass=pymysql.cursors.DictCursor  \n",
    "                           # 결과를 딕셔너리 형태로 반환\n",
    "                           )"
   ]
  },
  {
   "cell_type": "code",
   "execution_count": 14,
   "metadata": {},
   "outputs": [],
   "source": [
    "# \"\"\"사용자의 선호도 데이터 가져오기\"\"\"\n",
    "import pymysql.cursors\n",
    "\n",
    "# 📌 사용자의 선호도 데이터 가져오는 함수\n",
    "def get_user_preference(member_id):\n",
    "    try:\n",
    "        connection = get_connection()\n",
    "        cursor = connection.cursor()\n",
    "        sql = \"SELECT prefer_purpose FROM preference WHERE member_id = %s\"\n",
    "        cursor.execute(sql, (member_id,))\n",
    "        result = cursor.fetchone()\n",
    "        connection.close()\n",
    "\n",
    "        print(f\"📌 Flask - member_id: {member_id}, DB 조회 결과: {result}\") \n",
    "\n",
    "        return result[\"prefer_purpose\"] if result else None\n",
    "    except Exception as e:\n",
    "        print(f\"❌ Flask - DB 조회 오류: {e}\") \n",
    "        return None"
   ]
  },
  {
   "cell_type": "code",
   "execution_count": null,
   "metadata": {},
   "outputs": [
    {
     "name": "stdout",
     "output_type": "stream",
     "text": [
      " * Serving Flask app '__main__'\n",
      " * Debug mode: off\n"
     ]
    },
    {
     "name": "stderr",
     "output_type": "stream",
     "text": [
      "WARNING: This is a development server. Do not use it in a production deployment. Use a production WSGI server instead.\n",
      " * Running on http://127.0.0.1:5000\n",
      "Press CTRL+C to quit\n",
      "127.0.0.1 - - [08/Feb/2025 18:04:28] \"GET /recommend/chan HTTP/1.1\" 200 -\n"
     ]
    },
    {
     "name": "stdout",
     "output_type": "stream",
     "text": [
      "📌 Flask - 요청 받은 member_id: chan\n",
      "📌 Flask - member_id: chan, DB 조회 결과: {'prefer_purpose': '음식 탐방'}\n"
     ]
    },
    {
     "name": "stderr",
     "output_type": "stream",
     "text": [
      "127.0.0.1 - - [08/Feb/2025 18:05:01] \"GET /recommend/chan HTTP/1.1\" 200 -\n"
     ]
    },
    {
     "name": "stdout",
     "output_type": "stream",
     "text": [
      "📌 Flask - 요청 받은 member_id: chan\n",
      "📌 Flask - member_id: chan, DB 조회 결과: {'prefer_purpose': '음식 탐방'}\n"
     ]
    },
    {
     "name": "stderr",
     "output_type": "stream",
     "text": [
      "127.0.0.1 - - [08/Feb/2025 18:05:05] \"GET /recommend/chan HTTP/1.1\" 200 -\n"
     ]
    },
    {
     "name": "stdout",
     "output_type": "stream",
     "text": [
      "📌 Flask - 요청 받은 member_id: chan\n",
      "📌 Flask - member_id: chan, DB 조회 결과: {'prefer_purpose': '음식 탐방'}\n"
     ]
    },
    {
     "name": "stderr",
     "output_type": "stream",
     "text": [
      "127.0.0.1 - - [08/Feb/2025 18:05:09] \"GET /recommend/chan HTTP/1.1\" 200 -\n"
     ]
    },
    {
     "name": "stdout",
     "output_type": "stream",
     "text": [
      "📌 Flask - 요청 받은 member_id: chan\n",
      "📌 Flask - member_id: chan, DB 조회 결과: {'prefer_purpose': '음식 탐방'}\n"
     ]
    },
    {
     "name": "stderr",
     "output_type": "stream",
     "text": [
      "127.0.0.1 - - [08/Feb/2025 18:37:10] \"GET /recommend/chan HTTP/1.1\" 200 -\n"
     ]
    },
    {
     "name": "stdout",
     "output_type": "stream",
     "text": [
      "📌 Flask - 요청 받은 member_id: chan\n",
      "📌 Flask - member_id: chan, DB 조회 결과: {'prefer_purpose': '음식 탐방'}\n"
     ]
    },
    {
     "name": "stderr",
     "output_type": "stream",
     "text": [
      "127.0.0.1 - - [08/Feb/2025 18:42:02] \"GET /recommend/chan HTTP/1.1\" 200 -\n"
     ]
    },
    {
     "name": "stdout",
     "output_type": "stream",
     "text": [
      "📌 Flask - 요청 받은 member_id: chan\n",
      "📌 Flask - member_id: chan, DB 조회 결과: {'prefer_purpose': '음식 탐방'}\n"
     ]
    },
    {
     "name": "stderr",
     "output_type": "stream",
     "text": [
      "127.0.0.1 - - [08/Feb/2025 21:10:11] \"GET /recommend/chan HTTP/1.1\" 200 -\n"
     ]
    },
    {
     "name": "stdout",
     "output_type": "stream",
     "text": [
      "📌 Flask - 요청 받은 member_id: chan\n",
      "📌 Flask - member_id: chan, DB 조회 결과: {'prefer_purpose': '음식 탐방'}\n"
     ]
    },
    {
     "name": "stderr",
     "output_type": "stream",
     "text": [
      "127.0.0.1 - - [08/Feb/2025 21:11:08] \"GET /recommend/chan HTTP/1.1\" 200 -\n"
     ]
    },
    {
     "name": "stdout",
     "output_type": "stream",
     "text": [
      "📌 Flask - 요청 받은 member_id: chan\n",
      "📌 Flask - member_id: chan, DB 조회 결과: {'prefer_purpose': '음식 탐방'}\n"
     ]
    }
   ],
   "source": [
    "# 📌 Flask API: 사용자 선호도 데이터를 반환\n",
    "app = Flask(__name__)\n",
    "\n",
    "# 📌 **✅ Flask 엔드포인트 추가 (`recommend/<member_id>`)**\n",
    "@app.route('/recommend/<member_id>', methods=['GET'])\n",
    "def recommend_travel(member_id):\n",
    "    try:\n",
    "        print(f\"📌 Flask - 요청 받은 member_id: {member_id}\")\n",
    "        preference = get_user_preference(member_id)\n",
    "\n",
    "        if preference:\n",
    "            return Response(\n",
    "                json.dumps({\"member_id\": member_id, \"preference\": preference}, ensure_ascii=False),\n",
    "                status=200,\n",
    "                mimetype=\"application/json\"\n",
    "            )\n",
    "        else:\n",
    "            print(f\"❌ Flask - No preference found for {member_id}\")\n",
    "            return Response(\n",
    "                json.dumps({\"error\": f\"No preference found for user: {member_id}\"}, ensure_ascii=False),\n",
    "                status=404,\n",
    "                mimetype=\"application/json\"\n",
    "            )\n",
    "    except Exception as e:\n",
    "        print(f\"❌ Flask - API 내부 오류: {e}\")\n",
    "        return Response(\n",
    "            json.dumps({\"error\": \"Internal Server Error\", \"details\": str(e)}, ensure_ascii=False),\n",
    "            status=500,\n",
    "            mimetype=\"application/json\"\n",
    "        )\n",
    "\n",
    "if __name__ == '__main__':\n",
    "    app.run()"
   ]
  },
  {
   "cell_type": "code",
   "execution_count": null,
   "metadata": {},
   "outputs": [],
   "source": []
  }
 ],
 "metadata": {
  "kernelspec": {
   "display_name": "Python 3",
   "language": "python",
   "name": "python3"
  },
  "language_info": {
   "codemirror_mode": {
    "name": "ipython",
    "version": 3
   },
   "file_extension": ".py",
   "mimetype": "text/x-python",
   "name": "python",
   "nbconvert_exporter": "python",
   "pygments_lexer": "ipython3",
   "version": "3.13.2"
  }
 },
 "nbformat": 4,
 "nbformat_minor": 2
}
