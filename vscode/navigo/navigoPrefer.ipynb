{
 "cells": [
  {
   "cell_type": "markdown",
   "metadata": {},
   "source": [
    "pip install fastapi uvicorn pymysql pandas scikit-learn\n",
    "pip install \"fastapi[standard]\"\n",
    "pip install \n",
    "pip install rapidfuzz\n",
    "WARNING: The script uvicorn.exe is installed in 'C:\\Users\\AdministraorK\\AppData\\Roaming\\Python\\Python313\\Scripts' which is not on PATH.\n",
    " == 환경변수 편집집\n",
    " ### ctrl + shift + p 로 열어서 Python: Select Interpreter 선택 해서 python 환경 맞는거 선택\n",
    " \n"
   ]
  },
  {
   "cell_type": "code",
   "execution_count": 1,
   "metadata": {},
   "outputs": [],
   "source": [
    "from fastapi import FastAPI, HTTPException\n",
    "from pydantic import BaseModel\n",
    "import pymysql\n",
    "import pandas as pd\n",
    "from sklearn.feature_extraction.text import TfidfVectorizer\n",
    "from sklearn.metrics.pairwise import cosine_similarity\n",
    "from rapidfuzz import process\n"
   ]
  },
  {
   "cell_type": "code",
   "execution_count": 2,
   "metadata": {},
   "outputs": [],
   "source": [
    "# ✅ FastAPI 인스턴스 생성\n",
    "app = FastAPI()"
   ]
  },
  {
   "cell_type": "code",
   "execution_count": 3,
   "metadata": {},
   "outputs": [],
   "source": [
    "# ✅ MariaDB 연결 정보\n",
    "DB_HOST = \"localhost\"\n",
    "DB_USER = \"root\"\n",
    "DB_PASSWORD = \"11111111\"\n",
    "DB_NAME = \"navi_go\""
   ]
  },
  {
   "cell_type": "code",
   "execution_count": 4,
   "metadata": {},
   "outputs": [],
   "source": [
    "# ✅ MariaDB 연결 함수\n",
    "def get_connection():\n",
    "    return pymysql.connect(\n",
    "        host=DB_HOST,\n",
    "        user=DB_USER,\n",
    "        password=DB_PASSWORD,\n",
    "        database=DB_NAME,\n",
    "        charset=\"utf8mb4\",\n",
    "        cursorclass=pymysql.cursors.DictCursor\n",
    "    )"
   ]
  },
  {
   "cell_type": "code",
   "execution_count": 5,
   "metadata": {},
   "outputs": [],
   "source": [
    "# ✅ 사용자 선호도 가져오기 (preference 테이블에서 조회)\n",
    "def get_user_preference(member_id):\n",
    "    connection = get_connection()\n",
    "    cursor = connection.cursor()\n",
    "    sql = \"SELECT prefer_purpose FROM preference WHERE member_id = %s\"\n",
    "    cursor.execute(sql, (member_id,))\n",
    "    result = cursor.fetchone()  # 하나의 값만 가져옴\n",
    "    connection.close()\n",
    "    return result[\"prefer_purpose\"] if result else None"
   ]
  },
  {
   "cell_type": "code",
   "execution_count": 6,
   "metadata": {},
   "outputs": [],
   "source": [
    "# ✅ 사용자의 클릭 데이터 가져오기\n",
    "def get_user_click_history(member_id):\n",
    "    connection = get_connection()\n",
    "    cursor = connection.cursor()\n",
    "    sql = \"SELECT contentid, cat1, cat2, cat3 FROM user_activity WHERE member_id = %s\"\n",
    "    cursor.execute(sql, (member_id,))\n",
    "    result = cursor.fetchall()  # 모든 데이터(contentid, cat1, cat2, cat3)를 리스트로 반환\n",
    "    connection.close()\n",
    "    return result  # ✅ 리스트 형태로 반환"
   ]
  },
  {
   "cell_type": "code",
   "execution_count": 7,
   "metadata": {},
   "outputs": [],
   "source": [
    "def load_category_data():\n",
    "    file_path = \"data/한국관광공사_국문_서비스분류코드_v4.2.xlsx\"\n",
    "    xls = pd.ExcelFile(file_path)\n",
    "    df = pd.read_excel(xls, sheet_name='국문')\n",
    "\n",
    "    df = df.iloc[4:]  # 필요없는 행 제거\n",
    "    df.columns = [\"contenttypeid\", \"cat1\", \"cat2\", \"cat3\", \"대분류\", \"중분류\", \"소분류\"]\n",
    "    df = df.dropna()\n",
    "    return df  # ✅ DataFrame 반환"
   ]
  },
  {
   "cell_type": "code",
   "execution_count": 8,
   "metadata": {},
   "outputs": [],
   "source": [
    "# ✅ 1. 최적화된 preference → cat2 매핑 (유사도 적용)\n",
    "\n",
    "def map_preference_to_cat2(preference, df):\n",
    "    choices = df[\"중분류\"].tolist()  # 비교 대상 리스트\n",
    "    best_match, score, index = process.extractOne(preference, choices)  # 가장 유사한 단어 찾기\n",
    "    \n",
    "    if score > 80:  # 유사도가 80 이상이면 매칭 (조절 가능)\n",
    "        return df.iloc[index][\"cat2\"]  # 해당 row의 cat2 반환\n",
    "    return None  # 매칭 실패 시 None 반환"
   ]
  },
  {
   "cell_type": "code",
   "execution_count": 9,
   "metadata": {},
   "outputs": [],
   "source": [
    "# ✅ 2. AI 추천 모델 (유사도 기반 cat3 추천)\n",
    "from sklearn.feature_extraction.text import TfidfVectorizer\n",
    "from sklearn.metrics.pairwise import cosine_similarity\n",
    "\n",
    "def recommend_best_cat3(member_id):\n",
    "    user_clicks = get_user_click_history(member_id)  # 사용자가 클릭한 여행지 정보 가져오기\n",
    "    user_preference = get_user_preference(member_id)  # 사용자의 선호도\n",
    "    category_data = load_category_data()  # Excel 카테고리 데이터 로드\n",
    "\n",
    "    # ✅ 사용자의 선호도 → cat2 코드 변환 (유사도 매칭)\n",
    "    preference_cat2 = map_preference_to_cat2(user_preference, category_data)\n",
    "\n",
    "    # ✅ 클릭한 데이터가 없을 경우\n",
    "    if not user_clicks:\n",
    "        if preference_cat2:\n",
    "            # 사용자의 preference(cat2)와 일치하는 cat3 중에서 인기 있는 것 추천\n",
    "            best_cat3 = category_data[category_data[\"cat2\"] == preference_cat2].head(3)\n",
    "            return best_cat3[[\"cat3\", \"대분류\", \"중분류\"]].to_dict(orient=\"records\")\n",
    "        return []  # 클릭 데이터도 없고, preference도 없으면 추천 안 함\n",
    "\n",
    "    # ✅ 사용자가 클릭한 cat1, cat2, cat3 정보를 문자열로 결합하여 벡터화\n",
    "    clicked_features = [\" \".join([click[\"cat1\"], click[\"cat2\"], click[\"cat3\"]]) for click in user_clicks]\n",
    "\n",
    "    # ✅ Excel 데이터의 `cat1`, `cat2`, `cat3`를 벡터화\n",
    "    category_data[\"features\"] = category_data[\"cat1\"] + \" \" + category_data[\"cat2\"] + \" \" + category_data[\"cat3\"]\n",
    "\n",
    "    vectorizer = TfidfVectorizer()\n",
    "    tfidf_matrix = vectorizer.fit_transform(category_data[\"features\"])\n",
    "    clicked_vector = vectorizer.transform(clicked_features)\n",
    "\n",
    "    # ✅ 클릭한 데이터와 유사한 여행지 찾기\n",
    "    similarities = cosine_similarity(tfidf_matrix, clicked_vector).mean(axis=1)\n",
    "\n",
    "    # ✅ preference와 cat2 코드가 일치하는 것에 가중치 부여\n",
    "    category_data[\"score\"] = similarities\n",
    "    if preference_cat2:\n",
    "        category_data.loc[category_data[\"cat2\"] == preference_cat2, \"score\"] += 0.2  # 가중치 추가\n",
    "\n",
    "    # ✅ 가장 유사한 cat3 찾기\n",
    "    best_cat3 = category_data.sort_values(\"score\", ascending=False).head(3)\n",
    "\n",
    "    return best_cat3[[\"cat3\", \"대분류\", \"중분류\"]].to_dict(orient=\"records\")\n"
   ]
  },
  {
   "cell_type": "code",
   "execution_count": 10,
   "metadata": {},
   "outputs": [],
   "source": [
    "# ✅ 추천 API 엔드포인트\n",
    "@app.get(\"/recommend/{member_id}\")\n",
    "async def get_recommendations(member_id: str):\n",
    "    recommendations = recommend_best_cat3(member_id)\n",
    "    if not recommendations:\n",
    "        raise HTTPException(status_code=404, detail=\"No recommendations found\")\n",
    "    return recommendations\n"
   ]
  },
  {
   "cell_type": "code",
   "execution_count": 11,
   "metadata": {},
   "outputs": [
    {
     "ename": "RuntimeError",
     "evalue": "asyncio.run() cannot be called from a running event loop",
     "output_type": "error",
     "traceback": [
      "\u001b[1;31m---------------------------------------------------------------------------\u001b[0m",
      "\u001b[1;31mRuntimeError\u001b[0m                              Traceback (most recent call last)",
      "Cell \u001b[1;32mIn[11], line 4\u001b[0m\n\u001b[0;32m      2\u001b[0m \u001b[38;5;28;01mif\u001b[39;00m \u001b[38;5;18m__name__\u001b[39m \u001b[38;5;241m==\u001b[39m \u001b[38;5;124m\"\u001b[39m\u001b[38;5;124m__main__\u001b[39m\u001b[38;5;124m\"\u001b[39m:\n\u001b[0;32m      3\u001b[0m     \u001b[38;5;28;01mimport\u001b[39;00m\u001b[38;5;250m \u001b[39m\u001b[38;5;21;01muvicorn\u001b[39;00m\n\u001b[1;32m----> 4\u001b[0m     \u001b[43muvicorn\u001b[49m\u001b[38;5;241;43m.\u001b[39;49m\u001b[43mrun\u001b[49m\u001b[43m(\u001b[49m\u001b[43mapp\u001b[49m\u001b[43m,\u001b[49m\u001b[43m \u001b[49m\u001b[43mhost\u001b[49m\u001b[38;5;241;43m=\u001b[39;49m\u001b[38;5;124;43m\"\u001b[39;49m\u001b[38;5;124;43m127.0.0.1\u001b[39;49m\u001b[38;5;124;43m\"\u001b[39;49m\u001b[43m,\u001b[49m\u001b[43m \u001b[49m\u001b[43mport\u001b[49m\u001b[38;5;241;43m=\u001b[39;49m\u001b[38;5;241;43m5000\u001b[39;49m\u001b[43m)\u001b[49m\n",
      "File \u001b[1;32m~\\AppData\\Roaming\\Python\\Python313\\site-packages\\uvicorn\\main.py:579\u001b[0m, in \u001b[0;36mrun\u001b[1;34m(app, host, port, uds, fd, loop, http, ws, ws_max_size, ws_max_queue, ws_ping_interval, ws_ping_timeout, ws_per_message_deflate, lifespan, interface, reload, reload_dirs, reload_includes, reload_excludes, reload_delay, workers, env_file, log_config, log_level, access_log, proxy_headers, server_header, date_header, forwarded_allow_ips, root_path, limit_concurrency, backlog, limit_max_requests, timeout_keep_alive, timeout_graceful_shutdown, ssl_keyfile, ssl_certfile, ssl_keyfile_password, ssl_version, ssl_cert_reqs, ssl_ca_certs, ssl_ciphers, headers, use_colors, app_dir, factory, h11_max_incomplete_event_size)\u001b[0m\n\u001b[0;32m    577\u001b[0m         Multiprocess(config, target\u001b[38;5;241m=\u001b[39mserver\u001b[38;5;241m.\u001b[39mrun, sockets\u001b[38;5;241m=\u001b[39m[sock])\u001b[38;5;241m.\u001b[39mrun()\n\u001b[0;32m    578\u001b[0m     \u001b[38;5;28;01melse\u001b[39;00m:\n\u001b[1;32m--> 579\u001b[0m         \u001b[43mserver\u001b[49m\u001b[38;5;241;43m.\u001b[39;49m\u001b[43mrun\u001b[49m\u001b[43m(\u001b[49m\u001b[43m)\u001b[49m\n\u001b[0;32m    580\u001b[0m \u001b[38;5;28;01mexcept\u001b[39;00m \u001b[38;5;167;01mKeyboardInterrupt\u001b[39;00m:\n\u001b[0;32m    581\u001b[0m     \u001b[38;5;28;01mpass\u001b[39;00m  \u001b[38;5;66;03m# pragma: full coverage\u001b[39;00m\n",
      "File \u001b[1;32m~\\AppData\\Roaming\\Python\\Python313\\site-packages\\uvicorn\\server.py:66\u001b[0m, in \u001b[0;36mServer.run\u001b[1;34m(self, sockets)\u001b[0m\n\u001b[0;32m     64\u001b[0m \u001b[38;5;28;01mdef\u001b[39;00m\u001b[38;5;250m \u001b[39m\u001b[38;5;21mrun\u001b[39m(\u001b[38;5;28mself\u001b[39m, sockets: \u001b[38;5;28mlist\u001b[39m[socket\u001b[38;5;241m.\u001b[39msocket] \u001b[38;5;241m|\u001b[39m \u001b[38;5;28;01mNone\u001b[39;00m \u001b[38;5;241m=\u001b[39m \u001b[38;5;28;01mNone\u001b[39;00m) \u001b[38;5;241m-\u001b[39m\u001b[38;5;241m>\u001b[39m \u001b[38;5;28;01mNone\u001b[39;00m:\n\u001b[0;32m     65\u001b[0m     \u001b[38;5;28mself\u001b[39m\u001b[38;5;241m.\u001b[39mconfig\u001b[38;5;241m.\u001b[39msetup_event_loop()\n\u001b[1;32m---> 66\u001b[0m     \u001b[38;5;28;01mreturn\u001b[39;00m \u001b[43masyncio\u001b[49m\u001b[38;5;241;43m.\u001b[39;49m\u001b[43mrun\u001b[49m\u001b[43m(\u001b[49m\u001b[38;5;28;43mself\u001b[39;49m\u001b[38;5;241;43m.\u001b[39;49m\u001b[43mserve\u001b[49m\u001b[43m(\u001b[49m\u001b[43msockets\u001b[49m\u001b[38;5;241;43m=\u001b[39;49m\u001b[43msockets\u001b[49m\u001b[43m)\u001b[49m\u001b[43m)\u001b[49m\n",
      "File \u001b[1;32mc:\\Program Files\\Python313\\Lib\\asyncio\\runners.py:191\u001b[0m, in \u001b[0;36mrun\u001b[1;34m(main, debug, loop_factory)\u001b[0m\n\u001b[0;32m    161\u001b[0m \u001b[38;5;250m\u001b[39m\u001b[38;5;124;03m\"\"\"Execute the coroutine and return the result.\u001b[39;00m\n\u001b[0;32m    162\u001b[0m \n\u001b[0;32m    163\u001b[0m \u001b[38;5;124;03mThis function runs the passed coroutine, taking care of\u001b[39;00m\n\u001b[1;32m   (...)\u001b[0m\n\u001b[0;32m    187\u001b[0m \u001b[38;5;124;03m    asyncio.run(main())\u001b[39;00m\n\u001b[0;32m    188\u001b[0m \u001b[38;5;124;03m\"\"\"\u001b[39;00m\n\u001b[0;32m    189\u001b[0m \u001b[38;5;28;01mif\u001b[39;00m events\u001b[38;5;241m.\u001b[39m_get_running_loop() \u001b[38;5;129;01mis\u001b[39;00m \u001b[38;5;129;01mnot\u001b[39;00m \u001b[38;5;28;01mNone\u001b[39;00m:\n\u001b[0;32m    190\u001b[0m     \u001b[38;5;66;03m# fail fast with short traceback\u001b[39;00m\n\u001b[1;32m--> 191\u001b[0m     \u001b[38;5;28;01mraise\u001b[39;00m \u001b[38;5;167;01mRuntimeError\u001b[39;00m(\n\u001b[0;32m    192\u001b[0m         \u001b[38;5;124m\"\u001b[39m\u001b[38;5;124masyncio.run() cannot be called from a running event loop\u001b[39m\u001b[38;5;124m\"\u001b[39m)\n\u001b[0;32m    194\u001b[0m \u001b[38;5;28;01mwith\u001b[39;00m Runner(debug\u001b[38;5;241m=\u001b[39mdebug, loop_factory\u001b[38;5;241m=\u001b[39mloop_factory) \u001b[38;5;28;01mas\u001b[39;00m runner:\n\u001b[0;32m    195\u001b[0m     \u001b[38;5;28;01mreturn\u001b[39;00m runner\u001b[38;5;241m.\u001b[39mrun(main)\n",
      "\u001b[1;31mRuntimeError\u001b[0m: asyncio.run() cannot be called from a running event loop"
     ]
    }
   ],
   "source": [
    "# ✅ FastAPI 실행\n",
    "if __name__ == \"__main__\":\n",
    "    import uvicorn\n",
    "    uvicorn.run(app, host=\"127.0.0.1\", port=5000)"
   ]
  },
  {
   "cell_type": "code",
   "execution_count": null,
   "metadata": {},
   "outputs": [],
   "source": []
  }
 ],
 "metadata": {
  "kernelspec": {
   "display_name": "Python 3",
   "language": "python",
   "name": "python3"
  },
  "language_info": {
   "codemirror_mode": {
    "name": "ipython",
    "version": 3
   },
   "file_extension": ".py",
   "mimetype": "text/x-python",
   "name": "python",
   "nbconvert_exporter": "python",
   "pygments_lexer": "ipython3",
   "version": "3.13.2"
  }
 },
 "nbformat": 4,
 "nbformat_minor": 2
}
